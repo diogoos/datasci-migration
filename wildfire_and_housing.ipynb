{
 "cells": [
  {
   "cell_type": "markdown",
   "id": "63c6d5bc",
   "metadata": {},
   "source": [
    "# Wildfire + Housing Analysis\n",
    "This notebook contains the graphs for analyzing trends in migration relating to wildfires and housing index.\n",
    "\n",
    "First, we import the necessary data & graphing libraries:"
   ]
  },
  {
   "cell_type": "code",
   "execution_count": 1,
   "id": "8de5ac77",
   "metadata": {},
   "outputs": [],
   "source": [
    "# data loading & analysis\n",
    "import pandas as pd\n",
    "\n",
    "# graphing\n",
    "from matplotlib import pyplot as plt\n",
    "import seaborn as sns\n",
    "sns.set()"
   ]
  },
  {
   "cell_type": "markdown",
   "id": "7c2078e1",
   "metadata": {},
   "source": [
    "We load the necessary data from the joined dataset file:"
   ]
  },
  {
   "cell_type": "code",
   "execution_count": 3,
   "id": "d9de551e",
   "metadata": {},
   "outputs": [
    {
     "data": {
      "text/html": [
       "<div>\n",
       "<style scoped>\n",
       "    .dataframe tbody tr th:only-of-type {\n",
       "        vertical-align: middle;\n",
       "    }\n",
       "\n",
       "    .dataframe tbody tr th {\n",
       "        vertical-align: top;\n",
       "    }\n",
       "\n",
       "    .dataframe thead th {\n",
       "        text-align: right;\n",
       "    }\n",
       "</style>\n",
       "<table border=\"1\" class=\"dataframe\">\n",
       "  <thead>\n",
       "    <tr style=\"text-align: right;\">\n",
       "      <th></th>\n",
       "      <th>Unnamed: 0</th>\n",
       "      <th>State</th>\n",
       "      <th>Number of fires</th>\n",
       "      <th>Number of acres burned</th>\n",
       "      <th>Year</th>\n",
       "      <th>Out</th>\n",
       "      <th>In</th>\n",
       "      <th>GDP</th>\n",
       "      <th>index_sa</th>\n",
       "    </tr>\n",
       "  </thead>\n",
       "  <tbody>\n",
       "    <tr>\n",
       "      <th>0</th>\n",
       "      <td>0</td>\n",
       "      <td>Alaska</td>\n",
       "      <td>688.0</td>\n",
       "      <td>1129421.0</td>\n",
       "      <td>2010</td>\n",
       "      <td>94848.0</td>\n",
       "      <td>1961604.0</td>\n",
       "      <td>52947.7</td>\n",
       "      <td>218.6700</td>\n",
       "    </tr>\n",
       "    <tr>\n",
       "      <th>1</th>\n",
       "      <td>1</td>\n",
       "      <td>Alabama</td>\n",
       "      <td>2357.0</td>\n",
       "      <td>26331.0</td>\n",
       "      <td>2010</td>\n",
       "      <td>99850.0</td>\n",
       "      <td>5871042.0</td>\n",
       "      <td>175470.1</td>\n",
       "      <td>179.9575</td>\n",
       "    </tr>\n",
       "    <tr>\n",
       "      <th>2</th>\n",
       "      <td>2</td>\n",
       "      <td>Arkansas</td>\n",
       "      <td>2010.0</td>\n",
       "      <td>30954.0</td>\n",
       "      <td>2010</td>\n",
       "      <td>64264.0</td>\n",
       "      <td>4272858.0</td>\n",
       "      <td>100970.8</td>\n",
       "      <td>178.0375</td>\n",
       "    </tr>\n",
       "    <tr>\n",
       "      <th>3</th>\n",
       "      <td>3</td>\n",
       "      <td>Arizona</td>\n",
       "      <td>1517.0</td>\n",
       "      <td>74445.0</td>\n",
       "      <td>2010</td>\n",
       "      <td>177056.0</td>\n",
       "      <td>12027150.0</td>\n",
       "      <td>248125.3</td>\n",
       "      <td>182.4725</td>\n",
       "    </tr>\n",
       "    <tr>\n",
       "      <th>4</th>\n",
       "      <td>4</td>\n",
       "      <td>California</td>\n",
       "      <td>6502.0</td>\n",
       "      <td>108742.0</td>\n",
       "      <td>2010</td>\n",
       "      <td>575165.0</td>\n",
       "      <td>24016446.0</td>\n",
       "      <td>1973511.9</td>\n",
       "      <td>163.6975</td>\n",
       "    </tr>\n",
       "  </tbody>\n",
       "</table>\n",
       "</div>"
      ],
      "text/plain": [
       "   Unnamed: 0       State  Number of fires  Number of acres burned  Year  \\\n",
       "0           0      Alaska            688.0               1129421.0  2010   \n",
       "1           1     Alabama           2357.0                 26331.0  2010   \n",
       "2           2    Arkansas           2010.0                 30954.0  2010   \n",
       "3           3     Arizona           1517.0                 74445.0  2010   \n",
       "4           4  California           6502.0                108742.0  2010   \n",
       "\n",
       "        Out          In        GDP  index_sa  \n",
       "0   94848.0   1961604.0    52947.7  218.6700  \n",
       "1   99850.0   5871042.0   175470.1  179.9575  \n",
       "2   64264.0   4272858.0   100970.8  178.0375  \n",
       "3  177056.0  12027150.0   248125.3  182.4725  \n",
       "4  575165.0  24016446.0  1973511.9  163.6975  "
      ]
     },
     "execution_count": 3,
     "metadata": {},
     "output_type": "execute_result"
    }
   ],
   "source": [
    "df = pd.read_csv(\"full_df_testing.csv\")\n",
    "df.head()"
   ]
  },
  {
   "cell_type": "markdown",
   "id": "f3e36f98",
   "metadata": {},
   "source": [
    "## Wildfire Maps\n",
    "We decided to heatmaps in the shape of the US States to highlights the migration movements and wildfire occurrnces.\n",
    "\n",
    "This requires the use of the `geopandas` library and some pre-made \"shapefiles\" that contain geographical information about the distribution of states in the US. These supplemental files can be found in the /map directory. (You'll need to `pip install geopandas` in order to produce these graphs.)\n",
    "\n",
    "We will be build the map using 2019 data, as it is the most recent in the dataset."
   ]
  },
  {
   "cell_type": "code",
   "execution_count": null,
   "id": "f5e53f18",
   "metadata": {},
   "outputs": [],
   "source": [
    "wildfire_df = df[df['Year'] == 2019] # select 2019 data only\n",
    "wildfire_df.drop([\"Year\", \"State.1\", \"Year.1\", \"In\"])\n",
    "\n",
    "import geopandas as gpd\n",
    "gdf = gpd.read_file(\"map/states_shapefile.shp\")\n",
    "gdf = gdf.merge(state_net_migration, left_on='NAME', right_on='State')\n",
    "gdf = gdf.to_crs(\"EPSG:3395\")"
   ]
  }
 ],
 "metadata": {
  "kernelspec": {
   "display_name": "Python 3 (ipykernel)",
   "language": "python",
   "name": "python3"
  },
  "language_info": {
   "codemirror_mode": {
    "name": "ipython",
    "version": 3
   },
   "file_extension": ".py",
   "mimetype": "text/x-python",
   "name": "python",
   "nbconvert_exporter": "python",
   "pygments_lexer": "ipython3",
   "version": "3.10.9"
  }
 },
 "nbformat": 4,
 "nbformat_minor": 5
}
